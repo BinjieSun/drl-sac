{
 "cells": [
  {
   "cell_type": "code",
   "execution_count": null,
   "metadata": {
    "id": "CEdx8468i-cF"
   },
   "outputs": [],
   "source": [
    "%load_ext autoreload\n",
    "%autoreload 2"
   ]
  },
  {
   "cell_type": "code",
   "execution_count": null,
   "metadata": {
    "colab": {
     "base_uri": "https://localhost:8080/"
    },
    "executionInfo": {
     "elapsed": 27516,
     "status": "ok",
     "timestamp": 1741550567061,
     "user": {
      "displayName": "Binjie Sun",
      "userId": "04154472259511167675"
     },
     "user_tz": 240
    },
    "id": "05Kd6TbcjeQh",
    "outputId": "e2db0dbe-5260-4ee6-840b-0c8001c81e18"
   },
   "outputs": [],
   "source": [
    "# from google.colab import drive\n",
    "# drive.mount('/content/drive')"
   ]
  },
  {
   "cell_type": "code",
   "execution_count": null,
   "metadata": {
    "colab": {
     "base_uri": "https://localhost:8080/"
    },
    "executionInfo": {
     "elapsed": 28,
     "status": "ok",
     "timestamp": 1741550567090,
     "user": {
      "displayName": "Binjie Sun",
      "userId": "04154472259511167675"
     },
     "user_tz": 240
    },
    "id": "VzttY_ATjnUc",
    "outputId": "401ae5dd-bb21-4f64-f4d2-261e19977cda"
   },
   "outputs": [],
   "source": [
    "# %cd /content/drive/MyDrive/DRL\\ SAC/pytorch_sac"
   ]
  },
  {
   "cell_type": "code",
   "execution_count": null,
   "metadata": {
    "colab": {
     "base_uri": "https://localhost:8080/"
    },
    "collapsed": true,
    "executionInfo": {
     "elapsed": 98036,
     "status": "ok",
     "timestamp": 1741550665131,
     "user": {
      "displayName": "Binjie Sun",
      "userId": "04154472259511167675"
     },
     "user_tz": 240
    },
    "id": "zrsiMecnsc0B",
    "outputId": "9663aee0-eadd-4390-b542-98e89e210dd8"
   },
   "outputs": [],
   "source": [
    "!pip install torch\n",
    "!pip install absl-py pyparsing\n",
    "!pip install termcolor imageio imageio-ffmpeg\n",
    "!pip install git+https://github.com/facebookresearch/hydra@0.11_branch\n",
    "!pip install gymnasium[mujoco]\n",
    "!pip install dm_control"
   ]
  },
  {
   "cell_type": "code",
   "execution_count": null,
   "metadata": {
    "colab": {
     "base_uri": "https://localhost:8080/"
    },
    "executionInfo": {
     "elapsed": 1309783,
     "status": "ok",
     "timestamp": 1741551974918,
     "user": {
      "displayName": "Binjie Sun",
      "userId": "04154472259511167675"
     },
     "user_tz": 240
    },
    "id": "Ibz8OOzkmIny",
    "outputId": "c7392cd3-2424-40f5-e7ba-cd3342308c16"
   },
   "outputs": [],
   "source": [
    "# Paper reproduction requires gym experiments. The setup works for both dmc and gym.\n",
    "# !python train.py env_type=dmc env=cheetah_run\n",
    "!python train.py env_type=gym env=Walker2d-v5"
   ]
  }
 ],
 "metadata": {
  "accelerator": "GPU",
  "colab": {
   "gpuType": "A100",
   "provenance": []
  },
  "kernelspec": {
   "display_name": "drl_hw",
   "language": "python",
   "name": "python3"
  },
  "language_info": {
   "codemirror_mode": {
    "name": "ipython",
    "version": 3
   },
   "file_extension": ".py",
   "mimetype": "text/x-python",
   "name": "python",
   "nbconvert_exporter": "python",
   "pygments_lexer": "ipython3",
   "version": "3.9.21"
  }
 },
 "nbformat": 4,
 "nbformat_minor": 0
}
