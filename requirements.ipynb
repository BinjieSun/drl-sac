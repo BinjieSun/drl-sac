{
 "cells": [
  {
   "cell_type": "code",
   "execution_count": null,
   "metadata": {
    "colab": {
     "base_uri": "https://localhost:8080/"
    },
    "collapsed": true,
    "executionInfo": {
     "elapsed": 98036,
     "status": "ok",
     "timestamp": 1741550665131,
     "user": {
      "displayName": "Binjie Sun",
      "userId": "04154472259511167675"
     },
     "user_tz": 240
    },
    "id": "zrsiMecnsc0B",
    "outputId": "9663aee0-eadd-4390-b542-98e89e210dd8"
   },
   "outputs": [],
   "source": [
    "!conda create -n drl python=3.9 -y\n",
    "!conda activate drl\n",
    "!pip install torch\n",
    "!pip install absl-py pyparsing\n",
    "!pip install termcolor imageio imageio-ffmpeg\n",
    "!pip install git+https://github.com/facebookresearch/hydra@0.11_branch\n",
    "!pip install gymnasium[mujoco]\n",
    "!pip install dm_control\n",
    "!pip install tensorboard\n",
    "!pip install torch-geometric\n",
    "!pip install pandas\n",
    "!pip install scikit-learn matplotlib seaborn"
   ]
  },
  {
   "cell_type": "markdown",
   "metadata": {},
   "source": []
  }
 ],
 "metadata": {
  "accelerator": "GPU",
  "colab": {
   "gpuType": "A100",
   "provenance": []
  },
  "kernelspec": {
   "display_name": "drl_hw",
   "language": "python",
   "name": "python3"
  },
  "language_info": {
   "codemirror_mode": {
    "name": "ipython",
    "version": 3
   },
   "file_extension": ".py",
   "mimetype": "text/x-python",
   "name": "python",
   "nbconvert_exporter": "python",
   "pygments_lexer": "ipython3",
   "version": "3.9.0"
  }
 },
 "nbformat": 4,
 "nbformat_minor": 0
}
